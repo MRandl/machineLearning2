{
 "cells": [
  {
   "cell_type": "code",
   "execution_count": 274,
   "id": "2b018642-7369-4eac-8c01-dd654ff35cd6",
   "metadata": {},
   "outputs": [],
   "source": [
    "import pandas as pd\n",
    "\n",
    "import matplotlib.pyplot as plt\n",
    "%matplotlib inline\n",
    "import seaborn as sns\n",
    "\n",
    "from afinn import Afinn\n",
    "\n",
    "import string"
   ]
  },
  {
   "cell_type": "markdown",
   "id": "98e7d5f8-6a8b-49e0-adf4-f2607801954d",
   "metadata": {},
   "source": [
    "We start by importing negative/positive data into a single dataframe, and then applying simple pre-processing methods"
   ]
  },
  {
   "cell_type": "code",
   "execution_count": 135,
   "id": "0f6ee4c2-e5b4-405e-adf5-eaaec1b77c72",
   "metadata": {},
   "outputs": [],
   "source": [
    "path = 'data/twitter-datasets/'"
   ]
  },
  {
   "cell_type": "code",
   "execution_count": 140,
   "id": "1c973a6f-74f8-4d35-a280-e1c2cf4be16c",
   "metadata": {},
   "outputs": [],
   "source": [
    "data = None\n",
    "\n",
    "with open(f'{path}train_pos_full.txt', 'r') as f:\n",
    "    data = pd.DataFrame(data = f.read().splitlines())\n",
    "    data.columns = ['tweet']\n",
    "    data['label'] = 1\n",
    "    \n",
    "with open(f'{path}train_neg_full.txt', 'r') as f:\n",
    "    df_neg = pd.DataFrame(data = f.read().splitlines())\n",
    "    df_neg.columns = ['tweet']\n",
    "    df_neg['label'] = -1\n",
    "    data = data.append(df_neg, ignore_index = False)\n"
   ]
  },
  {
   "cell_type": "code",
   "execution_count": 275,
   "id": "65abfbcb-c33b-4b5b-a716-8fa8dc48bfc8",
   "metadata": {},
   "outputs": [],
   "source": [
    "def preprocess_tweet(tweet: str) -> str:\n",
    "    # remove \"<user>\" anonymization\n",
    "    res = tweet.replace('<user> ', '')\n",
    "    \n",
    "    # remove punctuation\n",
    "    res = res.translate(str.maketrans('', '', string.punctuation))\n",
    "    \n",
    "    # remove hashtags\n",
    "    # res = res.replace('#', '')\n",
    "    \n",
    "    return \" \".join(res.split())\n",
    "\n",
    "data['tweet'] = data.tweet.apply(lambda msg: preprocess_tweet(msg))\n"
   ]
  },
  {
   "cell_type": "markdown",
   "id": "074a4732-8317-41d2-9f15-fc24906806d8",
   "metadata": {},
   "source": [
    "Our first lexicon-based classification will make use of the `Afinn` library"
   ]
  },
  {
   "cell_type": "code",
   "execution_count": 143,
   "id": "af9a89ab-2df4-495b-b8ac-cd1c4cdfa18d",
   "metadata": {},
   "outputs": [
    {
     "data": {
      "text/html": [
       "<div>\n",
       "<style scoped>\n",
       "    .dataframe tbody tr th:only-of-type {\n",
       "        vertical-align: middle;\n",
       "    }\n",
       "\n",
       "    .dataframe tbody tr th {\n",
       "        vertical-align: top;\n",
       "    }\n",
       "\n",
       "    .dataframe thead th {\n",
       "        text-align: right;\n",
       "    }\n",
       "</style>\n",
       "<table border=\"1\" class=\"dataframe\">\n",
       "  <thead>\n",
       "    <tr style=\"text-align: right;\">\n",
       "      <th></th>\n",
       "      <th>tweet</th>\n",
       "      <th>label</th>\n",
       "      <th>score_afn</th>\n",
       "      <th>sentiment_afn</th>\n",
       "    </tr>\n",
       "  </thead>\n",
       "  <tbody>\n",
       "    <tr>\n",
       "      <th>0</th>\n",
       "      <td>i dunno justin read my mention or not only jus...</td>\n",
       "      <td>1</td>\n",
       "      <td>3.0</td>\n",
       "      <td>1</td>\n",
       "    </tr>\n",
       "    <tr>\n",
       "      <th>1</th>\n",
       "      <td>because your logic is so dumb i wont even crop...</td>\n",
       "      <td>1</td>\n",
       "      <td>-3.0</td>\n",
       "      <td>-1</td>\n",
       "    </tr>\n",
       "    <tr>\n",
       "      <th>2</th>\n",
       "      <td>just put casper in a box looved the battle cra...</td>\n",
       "      <td>1</td>\n",
       "      <td>-1.0</td>\n",
       "      <td>-1</td>\n",
       "    </tr>\n",
       "    <tr>\n",
       "      <th>3</th>\n",
       "      <td>thanks sir dont trip lil mama just keep doin y...</td>\n",
       "      <td>1</td>\n",
       "      <td>2.0</td>\n",
       "      <td>1</td>\n",
       "    </tr>\n",
       "    <tr>\n",
       "      <th>4</th>\n",
       "      <td>visiting my brother tmr is the bestest birthda...</td>\n",
       "      <td>1</td>\n",
       "      <td>2.0</td>\n",
       "      <td>1</td>\n",
       "    </tr>\n",
       "    <tr>\n",
       "      <th>...</th>\n",
       "      <td>...</td>\n",
       "      <td>...</td>\n",
       "      <td>...</td>\n",
       "      <td>...</td>\n",
       "    </tr>\n",
       "    <tr>\n",
       "      <th>1249995</th>\n",
       "      <td>im so sorry to u guys are ridiculous</td>\n",
       "      <td>-1</td>\n",
       "      <td>-4.0</td>\n",
       "      <td>-1</td>\n",
       "    </tr>\n",
       "    <tr>\n",
       "      <th>1249996</th>\n",
       "      <td>i cant find food coloring anywhere</td>\n",
       "      <td>-1</td>\n",
       "      <td>0.0</td>\n",
       "      <td>0</td>\n",
       "    </tr>\n",
       "    <tr>\n",
       "      <th>1249997</th>\n",
       "      <td>same here but tort wonder why you chose crime ...</td>\n",
       "      <td>-1</td>\n",
       "      <td>-3.0</td>\n",
       "      <td>-1</td>\n",
       "    </tr>\n",
       "    <tr>\n",
       "      <th>1249998</th>\n",
       "      <td>keyless entry remote fob clicker for 2005 buic...</td>\n",
       "      <td>-1</td>\n",
       "      <td>0.0</td>\n",
       "      <td>0</td>\n",
       "    </tr>\n",
       "    <tr>\n",
       "      <th>1249999</th>\n",
       "      <td>yeap doctor dont know whats wrong with me lol ...</td>\n",
       "      <td>-1</td>\n",
       "      <td>3.0</td>\n",
       "      <td>1</td>\n",
       "    </tr>\n",
       "  </tbody>\n",
       "</table>\n",
       "<p>2500000 rows × 4 columns</p>\n",
       "</div>"
      ],
      "text/plain": [
       "                                                     tweet  label  score_afn  \\\n",
       "0        i dunno justin read my mention or not only jus...      1        3.0   \n",
       "1        because your logic is so dumb i wont even crop...      1       -3.0   \n",
       "2        just put casper in a box looved the battle cra...      1       -1.0   \n",
       "3        thanks sir dont trip lil mama just keep doin y...      1        2.0   \n",
       "4        visiting my brother tmr is the bestest birthda...      1        2.0   \n",
       "...                                                    ...    ...        ...   \n",
       "1249995               im so sorry to u guys are ridiculous     -1       -4.0   \n",
       "1249996                 i cant find food coloring anywhere     -1        0.0   \n",
       "1249997  same here but tort wonder why you chose crime ...     -1       -3.0   \n",
       "1249998  keyless entry remote fob clicker for 2005 buic...     -1        0.0   \n",
       "1249999  yeap doctor dont know whats wrong with me lol ...     -1        3.0   \n",
       "\n",
       "         sentiment_afn  \n",
       "0                    1  \n",
       "1                   -1  \n",
       "2                   -1  \n",
       "3                    1  \n",
       "4                    1  \n",
       "...                ...  \n",
       "1249995             -1  \n",
       "1249996              0  \n",
       "1249997             -1  \n",
       "1249998              0  \n",
       "1249999              1  \n",
       "\n",
       "[2500000 rows x 4 columns]"
      ]
     },
     "execution_count": 143,
     "metadata": {},
     "output_type": "execute_result"
    }
   ],
   "source": [
    "afn = Afinn()\n",
    "\n",
    "data['score_afn'] = data.tweet.apply(lambda msg: afn.score(msg))\n",
    "\n",
    "# map strictly positive values to 1, strictly negative to -1 and zero values to 0\n",
    "data['sentiment_afn'] = data.score_afn.apply(lambda score: 1 if score > 0 else (-1 if score < 0 else 0))\n",
    "\n",
    "data"
   ]
  },
  {
   "cell_type": "markdown",
   "id": "3c586265-79b9-450f-aa83-6414f4dd0a37",
   "metadata": {},
   "source": [
    "We then apply a similar method using `SentiWordNet` which is able to assess positivity, negativity, and objectivity"
   ]
  },
  {
   "cell_type": "code",
   "execution_count": 144,
   "id": "3a6ccc96-6277-418c-a583-33d74dd4999e",
   "metadata": {},
   "outputs": [
    {
     "name": "stderr",
     "output_type": "stream",
     "text": [
      "[nltk_data] Downloading package sentiwordnet to\n",
      "[nltk_data]     /Users/wexus/nltk_data...\n",
      "[nltk_data]   Package sentiwordnet is already up-to-date!\n",
      "[nltk_data] Downloading package wordnet to /Users/wexus/nltk_data...\n",
      "[nltk_data]   Package wordnet is already up-to-date!\n",
      "[nltk_data] Downloading package averaged_perceptron_tagger to\n",
      "[nltk_data]     /Users/wexus/nltk_data...\n",
      "[nltk_data]   Package averaged_perceptron_tagger is already up-to-\n",
      "[nltk_data]       date!\n"
     ]
    },
    {
     "data": {
      "text/plain": [
       "True"
      ]
     },
     "execution_count": 144,
     "metadata": {},
     "output_type": "execute_result"
    }
   ],
   "source": [
    "import nltk\n",
    "\n",
    "from nltk.corpus import wordnet as wn\n",
    "from nltk.corpus import sentiwordnet as swn\n",
    "from nltk.stem import WordNetLemmatizer\n",
    "\n",
    "from nltk.tag import pos_tag\n",
    "\n",
    "nltk.download('sentiwordnet')\n",
    "nltk.download('wordnet')\n",
    "nltk.download('averaged_perceptron_tagger')"
   ]
  },
  {
   "cell_type": "code",
   "execution_count": 237,
   "id": "1a0be795-2fcd-49e7-9e95-0cfa377e8c7c",
   "metadata": {},
   "outputs": [],
   "source": [
    "# inspired from https://srish6.medium.com/sentiment-analysis-using-the-sentiwordnet-lexicon-1a3d8d856a10"
   ]
  },
  {
   "cell_type": "code",
   "execution_count": 146,
   "id": "f6179dc7-4fbb-439d-be0d-33a3cfc488af",
   "metadata": {},
   "outputs": [],
   "source": [
    "def tag_wn(tag):\n",
    "    \"\"\"\n",
    "    Convert between the PennTreebank tags to simple Wordnet tags\n",
    "    \"\"\"\n",
    "    if tag.startswith('J'):\n",
    "        return wn.ADJ\n",
    "    elif tag.startswith('N'):\n",
    "        return wn.NOUN\n",
    "    elif tag.startswith('R'):\n",
    "        return wn.ADV\n",
    "    elif tag.startswith('V'):\n",
    "        return wn.VERB\n",
    "    return None\n"
   ]
  },
  {
   "cell_type": "code",
   "execution_count": 147,
   "id": "b628f471-6879-478e-a2d2-9f5fe75d5ac6",
   "metadata": {},
   "outputs": [],
   "source": [
    "def score_sentiwordnet(tweet: str) -> str:\n",
    "    token = nltk.word_tokenize(tweet)\n",
    "    tagged = nltk.pos_tag(token)\n",
    "    \n",
    "    sentiment, token_count = 0.0, 0\n",
    "    \n",
    "    lemmatizer = WordNetLemmatizer()\n",
    "    for word, tag in tagged:\n",
    "        wn_tag = tag_wn(tag)\n",
    "        if wn_tag not in (wn.NOUN, wn.ADJ, wn.ADV):\n",
    "            continue\n",
    "            \n",
    "        lemma = lemmatizer.lemmatize(word, pos = wn_tag)\n",
    "        if not lemma:\n",
    "            continue\n",
    "\n",
    "        synsets = wn.synsets(lemma, pos = wn_tag)\n",
    "        if not synsets:\n",
    "            continue\n",
    "\n",
    "        # Take the first sense, the most common\n",
    "        synset = synsets[0]\n",
    "        swn_synset = swn.senti_synset(synset.name())\n",
    "\n",
    "        sentiment += swn_synset.pos_score() - swn_synset.neg_score()\n",
    "        token_count += 1\n",
    "    \n",
    "    return sentiment\n"
   ]
  },
  {
   "cell_type": "code",
   "execution_count": 148,
   "id": "574cb512-a03a-445e-aa31-5147dc765280",
   "metadata": {},
   "outputs": [
    {
     "data": {
      "text/html": [
       "<div>\n",
       "<style scoped>\n",
       "    .dataframe tbody tr th:only-of-type {\n",
       "        vertical-align: middle;\n",
       "    }\n",
       "\n",
       "    .dataframe tbody tr th {\n",
       "        vertical-align: top;\n",
       "    }\n",
       "\n",
       "    .dataframe thead th {\n",
       "        text-align: right;\n",
       "    }\n",
       "</style>\n",
       "<table border=\"1\" class=\"dataframe\">\n",
       "  <thead>\n",
       "    <tr style=\"text-align: right;\">\n",
       "      <th></th>\n",
       "      <th>tweet</th>\n",
       "      <th>label</th>\n",
       "      <th>score_afn</th>\n",
       "      <th>sentiment_afn</th>\n",
       "      <th>score_swn</th>\n",
       "      <th>sentiment_swn</th>\n",
       "    </tr>\n",
       "  </thead>\n",
       "  <tbody>\n",
       "    <tr>\n",
       "      <th>0</th>\n",
       "      <td>i dunno justin read my mention or not only jus...</td>\n",
       "      <td>1</td>\n",
       "      <td>3.0</td>\n",
       "      <td>1</td>\n",
       "      <td>-0.625</td>\n",
       "      <td>-1</td>\n",
       "    </tr>\n",
       "    <tr>\n",
       "      <th>1</th>\n",
       "      <td>because your logic is so dumb i wont even crop...</td>\n",
       "      <td>1</td>\n",
       "      <td>-3.0</td>\n",
       "      <td>-1</td>\n",
       "      <td>-0.125</td>\n",
       "      <td>-1</td>\n",
       "    </tr>\n",
       "    <tr>\n",
       "      <th>2</th>\n",
       "      <td>just put casper in a box looved the battle cra...</td>\n",
       "      <td>1</td>\n",
       "      <td>-1.0</td>\n",
       "      <td>-1</td>\n",
       "      <td>0.000</td>\n",
       "      <td>0</td>\n",
       "    </tr>\n",
       "    <tr>\n",
       "      <th>3</th>\n",
       "      <td>thanks sir dont trip lil mama just keep doin y...</td>\n",
       "      <td>1</td>\n",
       "      <td>2.0</td>\n",
       "      <td>1</td>\n",
       "      <td>1.000</td>\n",
       "      <td>1</td>\n",
       "    </tr>\n",
       "    <tr>\n",
       "      <th>4</th>\n",
       "      <td>visiting my brother tmr is the bestest birthda...</td>\n",
       "      <td>1</td>\n",
       "      <td>2.0</td>\n",
       "      <td>1</td>\n",
       "      <td>1.000</td>\n",
       "      <td>1</td>\n",
       "    </tr>\n",
       "    <tr>\n",
       "      <th>...</th>\n",
       "      <td>...</td>\n",
       "      <td>...</td>\n",
       "      <td>...</td>\n",
       "      <td>...</td>\n",
       "      <td>...</td>\n",
       "      <td>...</td>\n",
       "    </tr>\n",
       "    <tr>\n",
       "      <th>1249995</th>\n",
       "      <td>im so sorry to u guys are ridiculous</td>\n",
       "      <td>-1</td>\n",
       "      <td>-4.0</td>\n",
       "      <td>-1</td>\n",
       "      <td>-1.250</td>\n",
       "      <td>-1</td>\n",
       "    </tr>\n",
       "    <tr>\n",
       "      <th>1249996</th>\n",
       "      <td>i cant find food coloring anywhere</td>\n",
       "      <td>-1</td>\n",
       "      <td>0.0</td>\n",
       "      <td>0</td>\n",
       "      <td>0.000</td>\n",
       "      <td>0</td>\n",
       "    </tr>\n",
       "    <tr>\n",
       "      <th>1249997</th>\n",
       "      <td>same here but tort wonder why you chose crime ...</td>\n",
       "      <td>-1</td>\n",
       "      <td>-3.0</td>\n",
       "      <td>-1</td>\n",
       "      <td>0.250</td>\n",
       "      <td>1</td>\n",
       "    </tr>\n",
       "    <tr>\n",
       "      <th>1249998</th>\n",
       "      <td>keyless entry remote fob clicker for 2005 buic...</td>\n",
       "      <td>-1</td>\n",
       "      <td>0.0</td>\n",
       "      <td>0</td>\n",
       "      <td>-1.125</td>\n",
       "      <td>-1</td>\n",
       "    </tr>\n",
       "    <tr>\n",
       "      <th>1249999</th>\n",
       "      <td>yeap doctor dont know whats wrong with me lol ...</td>\n",
       "      <td>-1</td>\n",
       "      <td>3.0</td>\n",
       "      <td>1</td>\n",
       "      <td>-0.250</td>\n",
       "      <td>-1</td>\n",
       "    </tr>\n",
       "  </tbody>\n",
       "</table>\n",
       "<p>2500000 rows × 6 columns</p>\n",
       "</div>"
      ],
      "text/plain": [
       "                                                     tweet  label  score_afn  \\\n",
       "0        i dunno justin read my mention or not only jus...      1        3.0   \n",
       "1        because your logic is so dumb i wont even crop...      1       -3.0   \n",
       "2        just put casper in a box looved the battle cra...      1       -1.0   \n",
       "3        thanks sir dont trip lil mama just keep doin y...      1        2.0   \n",
       "4        visiting my brother tmr is the bestest birthda...      1        2.0   \n",
       "...                                                    ...    ...        ...   \n",
       "1249995               im so sorry to u guys are ridiculous     -1       -4.0   \n",
       "1249996                 i cant find food coloring anywhere     -1        0.0   \n",
       "1249997  same here but tort wonder why you chose crime ...     -1       -3.0   \n",
       "1249998  keyless entry remote fob clicker for 2005 buic...     -1        0.0   \n",
       "1249999  yeap doctor dont know whats wrong with me lol ...     -1        3.0   \n",
       "\n",
       "         sentiment_afn  score_swn  sentiment_swn  \n",
       "0                    1     -0.625             -1  \n",
       "1                   -1     -0.125             -1  \n",
       "2                   -1      0.000              0  \n",
       "3                    1      1.000              1  \n",
       "4                    1      1.000              1  \n",
       "...                ...        ...            ...  \n",
       "1249995             -1     -1.250             -1  \n",
       "1249996              0      0.000              0  \n",
       "1249997             -1      0.250              1  \n",
       "1249998              0     -1.125             -1  \n",
       "1249999              1     -0.250             -1  \n",
       "\n",
       "[2500000 rows x 6 columns]"
      ]
     },
     "execution_count": 148,
     "metadata": {},
     "output_type": "execute_result"
    }
   ],
   "source": [
    "data['score_swn'] = data.tweet.apply(lambda msg: score_sentiwordnet(msg))\n",
    "data['sentiment_swn'] = data.score_swn.apply(lambda score: 1 if score > 0 else (-1 if score < 0 else 0))\n",
    "data"
   ]
  },
  {
   "cell_type": "markdown",
   "id": "42d3d106-d8ca-4b4b-bafc-83dbf1a9cc3c",
   "metadata": {},
   "source": [
    "We will also make use of `VADER` which is trained specifically on social media data"
   ]
  },
  {
   "cell_type": "code",
   "execution_count": 149,
   "id": "3383e54c-c368-4f33-b511-3d70010a86cf",
   "metadata": {},
   "outputs": [
    {
     "name": "stderr",
     "output_type": "stream",
     "text": [
      "[nltk_data] Downloading package vader_lexicon to\n",
      "[nltk_data]     /Users/wexus/nltk_data...\n"
     ]
    },
    {
     "data": {
      "text/plain": [
       "True"
      ]
     },
     "execution_count": 149,
     "metadata": {},
     "output_type": "execute_result"
    }
   ],
   "source": [
    "from nltk.sentiment.vader import SentimentIntensityAnalyzer\n",
    "\n",
    "nltk.download('vader_lexicon')"
   ]
  },
  {
   "cell_type": "code",
   "execution_count": 150,
   "id": "aa4a3dfb-abf4-4811-a4ac-996c9aa563ba",
   "metadata": {},
   "outputs": [],
   "source": [
    "sid = SentimentIntensityAnalyzer()\n",
    "\n",
    "data['polarity_vader'] = data.tweet.apply(lambda tweet: sid.polarity_scores(tweet))\n",
    "data['score_vader'] = data.polarity_vader.apply(lambda polarity: polarity['compound'])\n",
    "data['sentiment_vader'] = data.score_vader.apply(lambda score: 1 if score > .05 else (-1 if score < -0.5 else 0))"
   ]
  },
  {
   "cell_type": "markdown",
   "id": "31f41d1f-bc6b-46be-bd9f-f85ce02ee299",
   "metadata": {},
   "source": [
    "Finally our last lexicon will be `TextBlob` which can estimate both polarity (sentiment) and subjectivity"
   ]
  },
  {
   "cell_type": "code",
   "execution_count": 255,
   "id": "916a81c9-fe86-4cde-8880-84aa4dfacad6",
   "metadata": {},
   "outputs": [],
   "source": [
    "from textblob import TextBlob\n",
    "\n",
    "data['score_tb'] = data.tweet.apply(lambda tweet: TextBlob(tweet).sentiment.polarity)"
   ]
  },
  {
   "cell_type": "code",
   "execution_count": null,
   "id": "12a6333f-41bb-4666-8db3-d63b4b05fc0e",
   "metadata": {},
   "outputs": [],
   "source": []
  },
  {
   "cell_type": "markdown",
   "id": "8d08dc9a-b7b2-45ae-9245-c26307edc206",
   "metadata": {},
   "source": [
    "Our task is to classify a tweet as \"positive\" or \"negative\". All of the techniques proposed also distinguish a \"neutral\" case for sentiment values in the interval $[-\\epsilon, \\epsilon]$ for $\\epsilon$ some small non-negative value. We will try variants to classify these neutral values into positive or negative and pick the best performing one according to the accuracy metric"
   ]
  },
  {
   "cell_type": "code",
   "execution_count": 163,
   "id": "833df79e-7621-456a-8d38-4ca6a00f7b9c",
   "metadata": {},
   "outputs": [],
   "source": [
    "data = data.reset_index(drop = True)"
   ]
  },
  {
   "cell_type": "code",
   "execution_count": 276,
   "id": "48f21dcd-d13a-456e-b05f-9d428eeafdec",
   "metadata": {},
   "outputs": [
    {
     "name": "stdout",
     "output_type": "stream",
     "text": [
      "sentiment_afn: decision=1, perf=0.5871364\n",
      "sentiment_afn: decision=-1, perf=0.620614\n",
      "sentiment_swn: decision=1, perf=0.5740196\n",
      "sentiment_swn: decision=-1, perf=0.5464812\n",
      "sentiment_vader: decision=1, perf=0.5428384\n",
      "sentiment_vader: decision=-1, perf=0.6302932\n"
     ]
    }
   ],
   "source": [
    "LABELS = list(data.label.unique())\n",
    "performances = list()\n",
    "\n",
    "for s_name in ['sentiment_afn', 'sentiment_swn', 'sentiment_vader']:\n",
    "    best_decision, best_performance = None, -1\n",
    "    for decision in LABELS:\n",
    "        tweak_sentiment = data[s_name].apply(lambda x: decision if x == 0 else x)\n",
    "        performance = (data.label == tweak_sentiment).sum() # number of correctly guessed labels\n",
    "\n",
    "        if performance > best_performance:\n",
    "            best_decision = decision\n",
    "            best_performance = performance\n",
    "\n",
    "        perf = performance/data.shape[0]\n",
    "        performances.append([s_name, decision, perf])\n",
    "        print(f'{s_name}: decision={decision}, perf={perf}')\n",
    "        \n",
    "performances = pd.DataFrame(performances, columns = ['s_name', 'decision', 'performance'])\n"
   ]
  },
  {
   "cell_type": "code",
   "execution_count": 266,
   "id": "59f7fb4d-1432-420e-b03a-de998edee47e",
   "metadata": {},
   "outputs": [],
   "source": [
    "bins = 100\n",
    "performances_tb = list()\n",
    "\n",
    "for step in range(bins + 1):\n",
    "    threshold = 2 * step/bins - 1 # value between -1 and 1 (bounds for textblob sentiments)\n",
    "    tweak_sentiment = data.score_tb.apply(lambda x: -1 if x <= threshold else 1)\n",
    "    performance = (data.label == tweak_sentiment).sum() # number of correctly guessed labels\n",
    "    \n",
    "    performances_tb.append([threshold, performance / data.shape[0]])\n",
    "    \n",
    "performances_tb = pd.DataFrame(performances_tb, columns = ['threshold', 'performance'])\n"
   ]
  },
  {
   "cell_type": "code",
   "execution_count": 287,
   "id": "f43525e0-b0a2-4737-9b17-870acf569acf",
   "metadata": {},
   "outputs": [
    {
     "data": {
      "image/png": "[encoded data removed]",
      "text/plain": [
       "<Figure size 432x288 with 1 Axes>"
      ]
     },
     "metadata": {
      "needs_background": "light"
     },
     "output_type": "display_data"
    }
   ],
   "source": [
    "sns.pointplot(data = performances, x = 'decision', y = 'performance', hue = 's_name', join = False)\n",
    "plt.title('Accuracy of the models depending on neutral value classification')\n",
    "plt.savefig('accuracy_lexicon.png')\n",
    "plt.show()"
   ]
  },
  {
   "cell_type": "code",
   "execution_count": 283,
   "id": "142596ca-6c60-40c6-ab6f-f253eebe7caa",
   "metadata": {},
   "outputs": [
    {
     "data": {
      "text/plain": [
       "s_name         sentiment_vader\n",
       "decision                    -1\n",
       "performance           0.630293\n",
       "Name: 5, dtype: object"
      ]
     },
     "execution_count": 283,
     "metadata": {},
     "output_type": "execute_result"
    }
   ],
   "source": [
    "performances.loc[performances.performance.idxmax()]"
   ]
  },
  {
   "cell_type": "code",
   "execution_count": 288,
   "id": "47f983ec-3b3f-4a15-a889-19526ad4e91a",
   "metadata": {},
   "outputs": [
    {
     "data": {
      "image/png": "[encoded data removed]",
      "text/plain": [
       "<Figure size 432x288 with 1 Axes>"
      ]
     },
     "metadata": {
      "needs_background": "light"
     },
     "output_type": "display_data"
    }
   ],
   "source": [
    "sns.scatterplot(data = performances_tb, x = 'threshold', y = 'performance')\n",
    "plt.title('Accuracy of Textblob depending on positive sentiment threshold')\n",
    "plt.savefig('accuracy_textblob.png')\n",
    "plt.show()"
   ]
  },
  {
   "cell_type": "code",
   "execution_count": 284,
   "id": "a691ebae-63bb-4856-836a-ff72e354bab7",
   "metadata": {},
   "outputs": [
    {
     "data": {
      "text/plain": [
       "threshold      0.180000\n",
       "performance    0.608052\n",
       "Name: 59, dtype: float64"
      ]
     },
     "execution_count": 284,
     "metadata": {},
     "output_type": "execute_result"
    }
   ],
   "source": [
    "performances_tb.loc[performances_tb.performance.idxmax()]"
   ]
  },
  {
   "cell_type": "code",
   "execution_count": null,
   "id": "90d37930-c107-4dfd-ac13-7410c5b9f6c3",
   "metadata": {},
   "outputs": [],
   "source": []
  },
  {
   "cell_type": "markdown",
   "id": "5e0d4696-e632-43ba-9f68-f8ecf88b2a7d",
   "metadata": {},
   "source": [
    "Why is the lexicon-based technique performing \"so bad\"? Probably abbreviations and tweeter jargon (hashtags)"
   ]
  },
  {
   "cell_type": "code",
   "execution_count": 236,
   "id": "928f74e5-e55b-4676-adf1-8db7bb1de596",
   "metadata": {},
   "outputs": [
    {
     "data": {
      "text/plain": [
       "755703                               lmaoo ayeee i like that\n",
       "1034103    my brother bday tomarrow haha im gonna make so...\n",
       "755802     whether one direction are in australia america...\n",
       "2195191            thats weird it has just stopped working 3\n",
       "988817     owww touchy monkey boi dont cry silly silly jo...\n",
       "Name: tweet, dtype: object"
      ]
     },
     "execution_count": 236,
     "metadata": {},
     "output_type": "execute_result"
    }
   ],
   "source": [
    "data.tweet.sample(5)"
   ]
  },
  {
   "cell_type": "code",
   "execution_count": null,
   "id": "53812543-7139-4a3a-834a-11c538be9be7",
   "metadata": {},
   "outputs": [],
   "source": []
  }
 ],
 "metadata": {
  "kernelspec": {
   "display_name": "Python [conda env:ada] *",
   "language": "python",
   "name": "conda-env-ada-py"
  },
  "language_info": {
   "codemirror_mode": {
    "name": "ipython",
    "version": 3
   },
   "file_extension": ".py",
   "mimetype": "text/x-python",
   "name": "python",
   "nbconvert_exporter": "python",
   "pygments_lexer": "ipython3",
   "version": "3.8.11"
  }
 },
 "nbformat": 4,
 "nbformat_minor": 5
}
