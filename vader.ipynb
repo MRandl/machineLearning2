{
 "cells": [
  {
   "cell_type": "code",
   "execution_count": 1,
   "id": "7e76d36d-db2f-48c3-bd12-a84badb580e8",
   "metadata": {},
   "outputs": [],
   "source": [
    "from vaderSentiment.vaderSentiment import SentimentIntensityAnalyzer\n",
    "import pandas as pd\n",
    "import re\n",
    "from sklearn.metrics import accuracy_score"
   ]
  },
  {
   "cell_type": "code",
   "execution_count": 2,
   "id": "696502ad-e4fb-4f13-9780-ae1ebe1f47d5",
   "metadata": {},
   "outputs": [],
   "source": [
    "def readFileOfTweets(path):\n",
    "    ret = None\n",
    "    with open(path, \"r\") as f:\n",
    "        ret = f.read().splitlines()\n",
    "    return ret"
   ]
  },
  {
   "cell_type": "code",
   "execution_count": 3,
   "id": "d5b43a27-51c3-455d-a318-675c3daf08e7",
   "metadata": {},
   "outputs": [
    {
     "data": {
      "text/html": [
       "<div>\n",
       "<style scoped>\n",
       "    .dataframe tbody tr th:only-of-type {\n",
       "        vertical-align: middle;\n",
       "    }\n",
       "\n",
       "    .dataframe tbody tr th {\n",
       "        vertical-align: top;\n",
       "    }\n",
       "\n",
       "    .dataframe thead th {\n",
       "        text-align: right;\n",
       "    }\n",
       "</style>\n",
       "<table border=\"1\" class=\"dataframe\">\n",
       "  <thead>\n",
       "    <tr style=\"text-align: right;\">\n",
       "      <th></th>\n",
       "      <th>text</th>\n",
       "      <th>y</th>\n",
       "    </tr>\n",
       "  </thead>\n",
       "  <tbody>\n",
       "    <tr>\n",
       "      <th>0</th>\n",
       "      <td>vinco tresorpack 6 ( difficulty 10 of 10 objec...</td>\n",
       "      <td>0</td>\n",
       "    </tr>\n",
       "    <tr>\n",
       "      <th>1</th>\n",
       "      <td>glad i dot have taks tomorrow ! ! #thankful #s...</td>\n",
       "      <td>0</td>\n",
       "    </tr>\n",
       "    <tr>\n",
       "      <th>2</th>\n",
       "      <td>1-3 vs celtics in the regular season = were fu...</td>\n",
       "      <td>0</td>\n",
       "    </tr>\n",
       "    <tr>\n",
       "      <th>3</th>\n",
       "      <td>&lt;user&gt; i could actually kill that girl i'm so ...</td>\n",
       "      <td>0</td>\n",
       "    </tr>\n",
       "    <tr>\n",
       "      <th>4</th>\n",
       "      <td>&lt;user&gt; &lt;user&gt; &lt;user&gt; i find that very hard to ...</td>\n",
       "      <td>0</td>\n",
       "    </tr>\n",
       "    <tr>\n",
       "      <th>...</th>\n",
       "      <td>...</td>\n",
       "      <td>...</td>\n",
       "    </tr>\n",
       "    <tr>\n",
       "      <th>2499995</th>\n",
       "      <td>a warning sign ? (; rt &lt;user&gt; the negativity y...</td>\n",
       "      <td>1</td>\n",
       "    </tr>\n",
       "    <tr>\n",
       "      <th>2499996</th>\n",
       "      <td>&lt;user&gt; ff too thank youuu ) )</td>\n",
       "      <td>1</td>\n",
       "    </tr>\n",
       "    <tr>\n",
       "      <th>2499997</th>\n",
       "      <td>i just love shumpa ! that's my girl</td>\n",
       "      <td>1</td>\n",
       "    </tr>\n",
       "    <tr>\n",
       "      <th>2499998</th>\n",
       "      <td>the best way to start a day ! no matter what h...</td>\n",
       "      <td>1</td>\n",
       "    </tr>\n",
       "    <tr>\n",
       "      <th>2499999</th>\n",
       "      <td>#frenchieswant1dtou i'm not from french but &lt;u...</td>\n",
       "      <td>1</td>\n",
       "    </tr>\n",
       "  </tbody>\n",
       "</table>\n",
       "<p>2500000 rows × 2 columns</p>\n",
       "</div>"
      ],
      "text/plain": [
       "                                                      text  y\n",
       "0        vinco tresorpack 6 ( difficulty 10 of 10 objec...  0\n",
       "1        glad i dot have taks tomorrow ! ! #thankful #s...  0\n",
       "2        1-3 vs celtics in the regular season = were fu...  0\n",
       "3        <user> i could actually kill that girl i'm so ...  0\n",
       "4        <user> <user> <user> i find that very hard to ...  0\n",
       "...                                                    ... ..\n",
       "2499995  a warning sign ? (; rt <user> the negativity y...  1\n",
       "2499996                      <user> ff too thank youuu ) )  1\n",
       "2499997                i just love shumpa ! that's my girl  1\n",
       "2499998  the best way to start a day ! no matter what h...  1\n",
       "2499999  #frenchieswant1dtou i'm not from french but <u...  1\n",
       "\n",
       "[2500000 rows x 2 columns]"
      ]
     },
     "execution_count": 3,
     "metadata": {},
     "output_type": "execute_result"
    }
   ],
   "source": [
    "negStrings = readFileOfTweets('data/train_neg_full.txt')\n",
    "negDf = pd.DataFrame(negStrings, columns=['text'])\n",
    "negDf['y'] = 0\n",
    "\n",
    "posStrings = readFileOfTweets('data/train_pos_full.txt')\n",
    "posDf = pd.DataFrame(posStrings, columns=['text'])\n",
    "posDf['y'] = 1\n",
    "\n",
    "allDf = pd.concat([negDf, posDf], ignore_index = True)\n",
    "allDf"
   ]
  },
  {
   "cell_type": "code",
   "execution_count": 4,
   "id": "d4e6ec06-a38c-4a93-8229-8651e8992f42",
   "metadata": {},
   "outputs": [],
   "source": [
    "def findAccuracy(dataset):\n",
    "    analyzer = SentimentIntensityAnalyzer()\n",
    "    actual_y = dataset['y']\n",
    "    pred_y = []\n",
    "    for sentence in dataset['text']:\n",
    "        vs = analyzer.polarity_scores(sentence)\n",
    "        pred_y.append(1 if vs['compound'] >= 0 else 0)\n",
    "    print(\"accuracy : \", accuracy_score(actual_y, pred_y))"
   ]
  },
  {
   "cell_type": "code",
   "execution_count": 5,
   "id": "f9a31009-a6aa-4bdc-b23a-2eefd6f11d5e",
   "metadata": {},
   "outputs": [
    {
     "name": "stdout",
     "output_type": "stream",
     "text": [
      "accuracy :  0.600116\n"
     ]
    }
   ],
   "source": [
    "findAccuracy(allDf)"
   ]
  },
  {
   "cell_type": "code",
   "execution_count": 6,
   "id": "5393243c-efd2-4f56-825b-cd63a6029b56",
   "metadata": {},
   "outputs": [],
   "source": [
    "def readTestFile():\n",
    "    with open(\"data/test_data.txt\", \"r\") as f:\n",
    "        content = f.readlines()\n",
    "    content = [re.split(\",\", x, maxsplit=1)[1] for x in content]\n",
    "    return content\n",
    "\n",
    "def publishResults(test_pred, file_name):\n",
    "    with open('data/' + file_name, \"w\") as f:\n",
    "        f.write(\"Id,Prediction\\n\")\n",
    "        for pred, index in zip(test_pred, range(1, len(test_pred) +1)):\n",
    "            f.write(str(index) + \",\" + str(pred) + \"\\n\")"
   ]
  },
  {
   "cell_type": "code",
   "execution_count": 8,
   "id": "77b2b1a8-ebb4-4fa0-a311-21fb21e230b0",
   "metadata": {},
   "outputs": [],
   "source": [
    "analyzer = SentimentIntensityAnalyzer()\n",
    "test_polarity = [analyzer.polarity_scores(sentence) for sentence in readTestFile()]\n",
    "test_pred = [-1 if x['compound'] <= 0 else 1 for x in test_polarity]\n",
    "publishResults(test_pred, \"vader.csv\")"
   ]
  },
  {
   "cell_type": "code",
   "execution_count": null,
   "id": "aaa1ef5f-3ffc-4a05-ba9a-826df5f41ebb",
   "metadata": {},
   "outputs": [],
   "source": []
  }
 ],
 "metadata": {
  "kernelspec": {
   "display_name": "Python 3 (ipykernel)",
   "language": "python",
   "name": "python3"
  },
  "language_info": {
   "codemirror_mode": {
    "name": "ipython",
    "version": 3
   },
   "file_extension": ".py",
   "mimetype": "text/x-python",
   "name": "python",
   "nbconvert_exporter": "python",
   "pygments_lexer": "ipython3",
   "version": "3.9.15"
  }
 },
 "nbformat": 4,
 "nbformat_minor": 5
}
