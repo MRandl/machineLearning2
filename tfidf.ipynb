{
 "cells": [
  {
   "cell_type": "code",
   "execution_count": 1,
   "id": "294f4cb3-1121-4b3c-9187-2ed27fe7840c",
   "metadata": {},
   "outputs": [
    {
     "name": "stderr",
     "output_type": "stream",
     "text": [
      "[nltk_data] Downloading package stopwords to /home/mrandl/nltk_data...\n",
      "[nltk_data]   Package stopwords is already up-to-date!\n",
      "[nltk_data] Downloading package wordnet to /home/mrandl/nltk_data...\n",
      "[nltk_data]   Package wordnet is already up-to-date!\n",
      "[nltk_data] Downloading package omw-1.4 to /home/mrandl/nltk_data...\n",
      "[nltk_data]   Package omw-1.4 is already up-to-date!\n"
     ]
    },
    {
     "data": {
      "text/plain": [
       "True"
      ]
     },
     "execution_count": 1,
     "metadata": {},
     "output_type": "execute_result"
    }
   ],
   "source": [
    "import pandas as pd\n",
    "import numpy as np\n",
    "import re\n",
    "import nltk\n",
    "\n",
    "import sklearn \n",
    "from sklearn import feature_extraction\n",
    "\n",
    "from sklearn.svm import LinearSVC\n",
    "from sklearn.linear_model import RidgeClassifier\n",
    "\n",
    "from sklearn.model_selection import KFold\n",
    "from sklearn.metrics import accuracy_score\n",
    "\n",
    "nltk.download('stopwords')\n",
    "nltk.download('wordnet')\n",
    "nltk.download('omw-1.4')"
   ]
  },
  {
   "cell_type": "code",
   "execution_count": 2,
   "id": "d77fb682-3727-4217-9be8-ad10ab3dc9d3",
   "metadata": {},
   "outputs": [],
   "source": [
    "def readFileOfTweets(path):\n",
    "    ret = None\n",
    "    with open(path, \"r\") as f:\n",
    "        ret = f.read().splitlines()\n",
    "    return ret"
   ]
  },
  {
   "cell_type": "code",
   "execution_count": 3,
   "id": "2085a79c-9ae9-4044-972b-009ad3716a64",
   "metadata": {},
   "outputs": [],
   "source": [
    "negStrings = readFileOfTweets('data/train_neg_full.txt')\n",
    "negDf = pd.DataFrame(negStrings, columns=['text'])\n",
    "negDf['y'] = 0\n",
    "\n",
    "posStrings = readFileOfTweets('data/train_pos_full.txt')\n",
    "posDf = pd.DataFrame(posStrings, columns=['text'])\n",
    "posDf['y'] = 1"
   ]
  },
  {
   "cell_type": "code",
   "execution_count": 4,
   "id": "dba0d61c-79f0-466b-9891-9bf14c995bfe",
   "metadata": {},
   "outputs": [
    {
     "data": {
      "text/html": [
       "<div>\n",
       "<style scoped>\n",
       "    .dataframe tbody tr th:only-of-type {\n",
       "        vertical-align: middle;\n",
       "    }\n",
       "\n",
       "    .dataframe tbody tr th {\n",
       "        vertical-align: top;\n",
       "    }\n",
       "\n",
       "    .dataframe thead th {\n",
       "        text-align: right;\n",
       "    }\n",
       "</style>\n",
       "<table border=\"1\" class=\"dataframe\">\n",
       "  <thead>\n",
       "    <tr style=\"text-align: right;\">\n",
       "      <th></th>\n",
       "      <th>text</th>\n",
       "      <th>y</th>\n",
       "    </tr>\n",
       "  </thead>\n",
       "  <tbody>\n",
       "    <tr>\n",
       "      <th>0</th>\n",
       "      <td>vinco tresorpack 6 ( difficulty 10 of 10 objec...</td>\n",
       "      <td>0</td>\n",
       "    </tr>\n",
       "    <tr>\n",
       "      <th>1</th>\n",
       "      <td>glad i dot have taks tomorrow ! ! #thankful #s...</td>\n",
       "      <td>0</td>\n",
       "    </tr>\n",
       "    <tr>\n",
       "      <th>2</th>\n",
       "      <td>1-3 vs celtics in the regular season = were fu...</td>\n",
       "      <td>0</td>\n",
       "    </tr>\n",
       "    <tr>\n",
       "      <th>3</th>\n",
       "      <td>&lt;user&gt; i could actually kill that girl i'm so ...</td>\n",
       "      <td>0</td>\n",
       "    </tr>\n",
       "    <tr>\n",
       "      <th>4</th>\n",
       "      <td>&lt;user&gt; &lt;user&gt; &lt;user&gt; i find that very hard to ...</td>\n",
       "      <td>0</td>\n",
       "    </tr>\n",
       "    <tr>\n",
       "      <th>...</th>\n",
       "      <td>...</td>\n",
       "      <td>...</td>\n",
       "    </tr>\n",
       "    <tr>\n",
       "      <th>2499995</th>\n",
       "      <td>a warning sign ? (; rt &lt;user&gt; the negativity y...</td>\n",
       "      <td>1</td>\n",
       "    </tr>\n",
       "    <tr>\n",
       "      <th>2499996</th>\n",
       "      <td>&lt;user&gt; ff too thank youuu ) )</td>\n",
       "      <td>1</td>\n",
       "    </tr>\n",
       "    <tr>\n",
       "      <th>2499997</th>\n",
       "      <td>i just love shumpa ! that's my girl</td>\n",
       "      <td>1</td>\n",
       "    </tr>\n",
       "    <tr>\n",
       "      <th>2499998</th>\n",
       "      <td>the best way to start a day ! no matter what h...</td>\n",
       "      <td>1</td>\n",
       "    </tr>\n",
       "    <tr>\n",
       "      <th>2499999</th>\n",
       "      <td>#frenchieswant1dtou i'm not from french but &lt;u...</td>\n",
       "      <td>1</td>\n",
       "    </tr>\n",
       "  </tbody>\n",
       "</table>\n",
       "<p>2500000 rows × 2 columns</p>\n",
       "</div>"
      ],
      "text/plain": [
       "                                                      text  y\n",
       "0        vinco tresorpack 6 ( difficulty 10 of 10 objec...  0\n",
       "1        glad i dot have taks tomorrow ! ! #thankful #s...  0\n",
       "2        1-3 vs celtics in the regular season = were fu...  0\n",
       "3        <user> i could actually kill that girl i'm so ...  0\n",
       "4        <user> <user> <user> i find that very hard to ...  0\n",
       "...                                                    ... ..\n",
       "2499995  a warning sign ? (; rt <user> the negativity y...  1\n",
       "2499996                      <user> ff too thank youuu ) )  1\n",
       "2499997                i just love shumpa ! that's my girl  1\n",
       "2499998  the best way to start a day ! no matter what h...  1\n",
       "2499999  #frenchieswant1dtou i'm not from french but <u...  1\n",
       "\n",
       "[2500000 rows x 2 columns]"
      ]
     },
     "execution_count": 4,
     "metadata": {},
     "output_type": "execute_result"
    }
   ],
   "source": [
    "allDf = pd.concat([negDf, posDf], ignore_index = True)\n",
    "allDf"
   ]
  },
  {
   "cell_type": "code",
   "execution_count": 5,
   "id": "90a6099b-b9d3-4cd6-af9c-240f7ab46e72",
   "metadata": {},
   "outputs": [],
   "source": [
    "assert(len(allDf) == len(negDf) + len(posDf))"
   ]
  },
  {
   "cell_type": "code",
   "execution_count": 6,
   "id": "ccd521b0-a5a6-4d85-9645-3eb062a19c35",
   "metadata": {},
   "outputs": [
    {
     "data": {
      "text/html": [
       "<div>\n",
       "<style scoped>\n",
       "    .dataframe tbody tr th:only-of-type {\n",
       "        vertical-align: middle;\n",
       "    }\n",
       "\n",
       "    .dataframe tbody tr th {\n",
       "        vertical-align: top;\n",
       "    }\n",
       "\n",
       "    .dataframe thead th {\n",
       "        text-align: right;\n",
       "    }\n",
       "</style>\n",
       "<table border=\"1\" class=\"dataframe\">\n",
       "  <thead>\n",
       "    <tr style=\"text-align: right;\">\n",
       "      <th></th>\n",
       "      <th>text</th>\n",
       "      <th>y</th>\n",
       "    </tr>\n",
       "  </thead>\n",
       "  <tbody>\n",
       "    <tr>\n",
       "      <th>1260691</th>\n",
       "      <td>&lt;user&gt; gotta go to court at 8: 15 .. lala #bad...</td>\n",
       "      <td>1</td>\n",
       "    </tr>\n",
       "    <tr>\n",
       "      <th>90100</th>\n",
       "      <td>&lt;user&gt; i waaanaaa be with stormy waaah . well ...</td>\n",
       "      <td>0</td>\n",
       "    </tr>\n",
       "    <tr>\n",
       "      <th>575892</th>\n",
       "      <td>&lt;user&gt; i'll bring my 1936 rickenbacker lap ste...</td>\n",
       "      <td>0</td>\n",
       "    </tr>\n",
       "    <tr>\n",
       "      <th>1526095</th>\n",
       "      <td>&lt;user&gt; she sound sexy</td>\n",
       "      <td>1</td>\n",
       "    </tr>\n",
       "    <tr>\n",
       "      <th>1057468</th>\n",
       "      <td>&lt;user&gt; it's okay except hyuna has no energy . ...</td>\n",
       "      <td>0</td>\n",
       "    </tr>\n",
       "  </tbody>\n",
       "</table>\n",
       "</div>"
      ],
      "text/plain": [
       "                                                      text  y\n",
       "1260691  <user> gotta go to court at 8: 15 .. lala #bad...  1\n",
       "90100    <user> i waaanaaa be with stormy waaah . well ...  0\n",
       "575892   <user> i'll bring my 1936 rickenbacker lap ste...  0\n",
       "1526095                              <user> she sound sexy  1\n",
       "1057468  <user> it's okay except hyuna has no energy . ...  0"
      ]
     },
     "execution_count": 6,
     "metadata": {},
     "output_type": "execute_result"
    }
   ],
   "source": [
    "allDf.sample(5)"
   ]
  },
  {
   "cell_type": "code",
   "execution_count": 7,
   "id": "8cd89a2a-5798-4004-bd05-6a686ca19c2c",
   "metadata": {},
   "outputs": [],
   "source": [
    "lem = nltk.stem.wordnet.WordNetLemmatizer()\n",
    "nltk_stopwords = nltk.corpus.stopwords.words(\"english\")\n",
    "\n",
    "def preprocess_line(text):\n",
    "    text = re.sub(r'[^\\w\\s]', '', str(text).lower().strip())\n",
    "    text = text.split()\n",
    "    text = [word for word in text if word not in nltk_stopwords]\n",
    "    text = [lem.lemmatize(word) for word in text]\n",
    "    return \" \".join(text)"
   ]
  },
  {
   "cell_type": "code",
   "execution_count": 8,
   "id": "0f59634e-89eb-41e9-8d75-2580443a95bc",
   "metadata": {},
   "outputs": [
    {
     "data": {
      "text/html": [
       "<div>\n",
       "<style scoped>\n",
       "    .dataframe tbody tr th:only-of-type {\n",
       "        vertical-align: middle;\n",
       "    }\n",
       "\n",
       "    .dataframe tbody tr th {\n",
       "        vertical-align: top;\n",
       "    }\n",
       "\n",
       "    .dataframe thead th {\n",
       "        text-align: right;\n",
       "    }\n",
       "</style>\n",
       "<table border=\"1\" class=\"dataframe\">\n",
       "  <thead>\n",
       "    <tr style=\"text-align: right;\">\n",
       "      <th></th>\n",
       "      <th>text</th>\n",
       "      <th>y</th>\n",
       "      <th>text_clean</th>\n",
       "    </tr>\n",
       "  </thead>\n",
       "  <tbody>\n",
       "    <tr>\n",
       "      <th>1459961</th>\n",
       "      <td>why can't you just tell me how you feel !</td>\n",
       "      <td>1</td>\n",
       "      <td>cant tell feel</td>\n",
       "    </tr>\n",
       "    <tr>\n",
       "      <th>1054922</th>\n",
       "      <td>so annoyed that i cant make a pizza in foodtec...</td>\n",
       "      <td>0</td>\n",
       "      <td>annoyed cant make pizza foodtech today f</td>\n",
       "    </tr>\n",
       "    <tr>\n",
       "      <th>2167016</th>\n",
       "      <td>&lt;user&gt; you know what i do</td>\n",
       "      <td>1</td>\n",
       "      <td>user know</td>\n",
       "    </tr>\n",
       "    <tr>\n",
       "      <th>2334251</th>\n",
       "      <td>soo i can't believe that the lady from atf cal...</td>\n",
       "      <td>1</td>\n",
       "      <td>soo cant believe lady atf called missionary tr...</td>\n",
       "    </tr>\n",
       "    <tr>\n",
       "      <th>936888</th>\n",
       "      <td>i was there rt &lt;user&gt; &lt;user&gt; &lt;user&gt; nahhh chil...</td>\n",
       "      <td>0</td>\n",
       "      <td>rt user user user nahhh chill hungry</td>\n",
       "    </tr>\n",
       "  </tbody>\n",
       "</table>\n",
       "</div>"
      ],
      "text/plain": [
       "                                                      text  y  \\\n",
       "1459961          why can't you just tell me how you feel !  1   \n",
       "1054922  so annoyed that i cant make a pizza in foodtec...  0   \n",
       "2167016                          <user> you know what i do  1   \n",
       "2334251  soo i can't believe that the lady from atf cal...  1   \n",
       "936888   i was there rt <user> <user> <user> nahhh chil...  0   \n",
       "\n",
       "                                                text_clean  \n",
       "1459961                                     cant tell feel  \n",
       "1054922           annoyed cant make pizza foodtech today f  \n",
       "2167016                                          user know  \n",
       "2334251  soo cant believe lady atf called missionary tr...  \n",
       "936888                rt user user user nahhh chill hungry  "
      ]
     },
     "execution_count": 8,
     "metadata": {},
     "output_type": "execute_result"
    }
   ],
   "source": [
    "allDf[\"text_clean\"] = allDf[\"text\"].apply(lambda x: preprocess_line(x))\n",
    "allDf.sample(5)"
   ]
  },
  {
   "cell_type": "code",
   "execution_count": 9,
   "id": "1bf63bbe-49b0-47dc-9e11-d1a8a3a3805b",
   "metadata": {},
   "outputs": [],
   "source": [
    "def train_and_pred(x_train, y_train, x_test):\n",
    "    vectorizer = feature_extraction.text.TfidfVectorizer(ngram_range=(1,2))\n",
    "    x_vecs = vectorizer.fit_transform(x_train)\n",
    "    classifier = LinearSVC()#RidgeClassifier()\n",
    "    classifier.fit(x_vecs, y_train)\n",
    "\n",
    "    return classifier.predict(vectorizer.transform(x_test))\n",
    "\n",
    "def crossValidate(dataset, fold):\n",
    "    accuracy = 0\n",
    "    kf = KFold(n_splits=fold, shuffle = True)\n",
    "    \n",
    "    for train_index, test_index in kf.split(dataset):\n",
    "        train = dataset.iloc[train_index]\n",
    "        test  = dataset.iloc[test_index]\n",
    "\n",
    "        train_x = train.text_clean\n",
    "        train_y = train.y\n",
    "        test_x  = test.text_clean\n",
    "        test_y  = test.y\n",
    "        \n",
    "        pred = train_and_pred(train_x, train_y, test_x)\n",
    "        \n",
    "        accuracy += accuracy_score(test_y, pred, normalize=False)\n",
    "        print(accuracy_score(test_y, pred))\n",
    "        \n",
    "    print(\"avg fold accuracy : \", accuracy / len(dataset))\n",
    "\n"
   ]
  },
  {
   "cell_type": "code",
   "execution_count": 10,
   "id": "baf43830-d987-434e-9555-b53f6e90b937",
   "metadata": {},
   "outputs": [
    {
     "name": "stdout",
     "output_type": "stream",
     "text": [
      "0.836656\n",
      "0.837052\n",
      "0.835902\n",
      "0.836616\n",
      "0.836818\n",
      "avg fold accuracy :  0.8366088\n"
     ]
    }
   ],
   "source": [
    "crossValidate(allDf, 5)"
   ]
  },
  {
   "cell_type": "code",
   "execution_count": 11,
   "id": "ad86b60e-43ce-47e9-bbf5-f4b04904eac4",
   "metadata": {},
   "outputs": [],
   "source": [
    "def readTestFile():\n",
    "    with open(\"data/test_data.txt\", \"r\") as f:\n",
    "        content = f.readlines()\n",
    "    content = [re.split(\",\", x, maxsplit=1)[1] for x in content]\n",
    "    return content\n",
    "\n",
    "def publishResults(test_pred, file_name):\n",
    "    with open('data/' + file_name, \"w\") as f:\n",
    "        f.write(\"Id,Prediction\\n\")\n",
    "        for pred, index in zip(test_pred, range(1, len(test_pred) +1)):\n",
    "            f.write(str(index) + \",\" + str(pred) + \"\\n\")"
   ]
  },
  {
   "cell_type": "code",
   "execution_count": 12,
   "id": "2671cddc-658a-4574-8d6b-53c4bf356a52",
   "metadata": {},
   "outputs": [],
   "source": [
    "test = [preprocess_line(x) for x in readTestFile()]"
   ]
  },
  {
   "cell_type": "code",
   "execution_count": 13,
   "id": "57cb8c5c-3174-4c2a-bdf7-f2fee9ab5ca5",
   "metadata": {},
   "outputs": [
    {
     "data": {
      "text/plain": [
       "['sea doo pro sea scooter sport portable seadoo seascootersave air stay longer water url',\n",
       " 'user shuck well work week cant come cheer oh put battery calculator',\n",
       " 'cant stay away bug thats baby',\n",
       " 'user maam lol im perfectly fine contagious anymore lmao',\n",
       " 'whenever fall asleep watching tv always wake headache']"
      ]
     },
     "execution_count": 13,
     "metadata": {},
     "output_type": "execute_result"
    }
   ],
   "source": [
    "test[:5]"
   ]
  },
  {
   "cell_type": "code",
   "execution_count": 14,
   "id": "08180358-eba1-4c97-9133-cdf7b7d871e0",
   "metadata": {},
   "outputs": [],
   "source": [
    "test_pred = train_and_pred(allDf.text_clean, allDf.y, test)"
   ]
  },
  {
   "cell_type": "code",
   "execution_count": 15,
   "id": "6a206d73-7a50-4842-815f-f6da6576291f",
   "metadata": {},
   "outputs": [],
   "source": [
    "test_pred = [-1 if x == 0 else 1 for x in test_pred]"
   ]
  },
  {
   "cell_type": "code",
   "execution_count": 16,
   "id": "09deb830-9d9d-44fa-a150-2cf69b18ee2e",
   "metadata": {},
   "outputs": [],
   "source": [
    "publishResults(test_pred, \"tfidf_svc.csv\")"
   ]
  },
  {
   "cell_type": "code",
   "execution_count": null,
   "id": "fff0f77e-098c-4f55-bce4-0712e2994a69",
   "metadata": {},
   "outputs": [],
   "source": []
  }
 ],
 "metadata": {
  "kernelspec": {
   "display_name": "Python 3 (ipykernel)",
   "language": "python",
   "name": "python3"
  },
  "language_info": {
   "codemirror_mode": {
    "name": "ipython",
    "version": 3
   },
   "file_extension": ".py",
   "mimetype": "text/x-python",
   "name": "python",
   "nbconvert_exporter": "python",
   "pygments_lexer": "ipython3",
   "version": "3.9.15"
  }
 },
 "nbformat": 4,
 "nbformat_minor": 5
}
