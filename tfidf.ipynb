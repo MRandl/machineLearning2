{
 "cells": [
  {
   "cell_type": "code",
   "execution_count": 1,
   "id": "294f4cb3-1121-4b3c-9187-2ed27fe7840c",
   "metadata": {},
   "outputs": [
    {
     "name": "stderr",
     "output_type": "stream",
     "text": [
      "[nltk_data] Downloading package stopwords to /home/mrandl/nltk_data...\n",
      "[nltk_data]   Package stopwords is already up-to-date!\n",
      "[nltk_data] Downloading package wordnet to /home/mrandl/nltk_data...\n",
      "[nltk_data]   Package wordnet is already up-to-date!\n",
      "[nltk_data] Downloading package omw-1.4 to /home/mrandl/nltk_data...\n",
      "[nltk_data]   Package omw-1.4 is already up-to-date!\n"
     ]
    },
    {
     "data": {
      "text/plain": [
       "True"
      ]
     },
     "execution_count": 1,
     "metadata": {},
     "output_type": "execute_result"
    }
   ],
   "source": [
    "import pandas as pd\n",
    "import numpy as np\n",
    "import re\n",
    "import nltk\n",
    "\n",
    "import sklearn \n",
    "from sklearn import feature_extraction\n",
    "\n",
    "from sklearn.svm import LinearSVC\n",
    "from sklearn.linear_model import RidgeClassifier\n",
    "\n",
    "from sklearn.model_selection import KFold\n",
    "from sklearn.metrics import accuracy_score\n",
    "\n",
    "nltk.download('stopwords')\n",
    "nltk.download('wordnet')\n",
    "nltk.download('omw-1.4')"
   ]
  },
  {
   "cell_type": "code",
   "execution_count": 2,
   "id": "d77fb682-3727-4217-9be8-ad10ab3dc9d3",
   "metadata": {},
   "outputs": [],
   "source": [
    "def readFileOfTweets(path):\n",
    "    ret = None\n",
    "    with open(path, \"r\") as f:\n",
    "        ret = f.read().splitlines()\n",
    "    return ret"
   ]
  },
  {
   "cell_type": "code",
   "execution_count": 3,
   "id": "2085a79c-9ae9-4044-972b-009ad3716a64",
   "metadata": {},
   "outputs": [],
   "source": [
    "negStrings = readFileOfTweets('data/train_neg_full.txt')\n",
    "negDf = pd.DataFrame(negStrings, columns=['text'])\n",
    "negDf['y'] = 0\n",
    "\n",
    "posStrings = readFileOfTweets('data/train_pos_full.txt')\n",
    "posDf = pd.DataFrame(posStrings, columns=['text'])\n",
    "posDf['y'] = 1"
   ]
  },
  {
   "cell_type": "code",
   "execution_count": 4,
   "id": "dba0d61c-79f0-466b-9891-9bf14c995bfe",
   "metadata": {},
   "outputs": [
    {
     "data": {
      "text/html": [
       "<div>\n",
       "<style scoped>\n",
       "    .dataframe tbody tr th:only-of-type {\n",
       "        vertical-align: middle;\n",
       "    }\n",
       "\n",
       "    .dataframe tbody tr th {\n",
       "        vertical-align: top;\n",
       "    }\n",
       "\n",
       "    .dataframe thead th {\n",
       "        text-align: right;\n",
       "    }\n",
       "</style>\n",
       "<table border=\"1\" class=\"dataframe\">\n",
       "  <thead>\n",
       "    <tr style=\"text-align: right;\">\n",
       "      <th></th>\n",
       "      <th>text</th>\n",
       "      <th>y</th>\n",
       "    </tr>\n",
       "  </thead>\n",
       "  <tbody>\n",
       "    <tr>\n",
       "      <th>0</th>\n",
       "      <td>vinco tresorpack 6 ( difficulty 10 of 10 objec...</td>\n",
       "      <td>0</td>\n",
       "    </tr>\n",
       "    <tr>\n",
       "      <th>1</th>\n",
       "      <td>glad i dot have taks tomorrow ! ! #thankful #s...</td>\n",
       "      <td>0</td>\n",
       "    </tr>\n",
       "    <tr>\n",
       "      <th>2</th>\n",
       "      <td>1-3 vs celtics in the regular season = were fu...</td>\n",
       "      <td>0</td>\n",
       "    </tr>\n",
       "    <tr>\n",
       "      <th>3</th>\n",
       "      <td>&lt;user&gt; i could actually kill that girl i'm so ...</td>\n",
       "      <td>0</td>\n",
       "    </tr>\n",
       "    <tr>\n",
       "      <th>4</th>\n",
       "      <td>&lt;user&gt; &lt;user&gt; &lt;user&gt; i find that very hard to ...</td>\n",
       "      <td>0</td>\n",
       "    </tr>\n",
       "    <tr>\n",
       "      <th>...</th>\n",
       "      <td>...</td>\n",
       "      <td>...</td>\n",
       "    </tr>\n",
       "    <tr>\n",
       "      <th>2499995</th>\n",
       "      <td>a warning sign ? (; rt &lt;user&gt; the negativity y...</td>\n",
       "      <td>1</td>\n",
       "    </tr>\n",
       "    <tr>\n",
       "      <th>2499996</th>\n",
       "      <td>&lt;user&gt; ff too thank youuu ) )</td>\n",
       "      <td>1</td>\n",
       "    </tr>\n",
       "    <tr>\n",
       "      <th>2499997</th>\n",
       "      <td>i just love shumpa ! that's my girl</td>\n",
       "      <td>1</td>\n",
       "    </tr>\n",
       "    <tr>\n",
       "      <th>2499998</th>\n",
       "      <td>the best way to start a day ! no matter what h...</td>\n",
       "      <td>1</td>\n",
       "    </tr>\n",
       "    <tr>\n",
       "      <th>2499999</th>\n",
       "      <td>#frenchieswant1dtou i'm not from french but &lt;u...</td>\n",
       "      <td>1</td>\n",
       "    </tr>\n",
       "  </tbody>\n",
       "</table>\n",
       "<p>2500000 rows × 2 columns</p>\n",
       "</div>"
      ],
      "text/plain": [
       "                                                      text  y\n",
       "0        vinco tresorpack 6 ( difficulty 10 of 10 objec...  0\n",
       "1        glad i dot have taks tomorrow ! ! #thankful #s...  0\n",
       "2        1-3 vs celtics in the regular season = were fu...  0\n",
       "3        <user> i could actually kill that girl i'm so ...  0\n",
       "4        <user> <user> <user> i find that very hard to ...  0\n",
       "...                                                    ... ..\n",
       "2499995  a warning sign ? (; rt <user> the negativity y...  1\n",
       "2499996                      <user> ff too thank youuu ) )  1\n",
       "2499997                i just love shumpa ! that's my girl  1\n",
       "2499998  the best way to start a day ! no matter what h...  1\n",
       "2499999  #frenchieswant1dtou i'm not from french but <u...  1\n",
       "\n",
       "[2500000 rows x 2 columns]"
      ]
     },
     "execution_count": 4,
     "metadata": {},
     "output_type": "execute_result"
    }
   ],
   "source": [
    "allDf = pd.concat([negDf, posDf], ignore_index = True)\n",
    "allDf"
   ]
  },
  {
   "cell_type": "code",
   "execution_count": 5,
   "id": "90a6099b-b9d3-4cd6-af9c-240f7ab46e72",
   "metadata": {},
   "outputs": [],
   "source": [
    "assert(len(allDf) == len(negDf) + len(posDf))"
   ]
  },
  {
   "cell_type": "code",
   "execution_count": 6,
   "id": "ccd521b0-a5a6-4d85-9645-3eb062a19c35",
   "metadata": {},
   "outputs": [
    {
     "data": {
      "text/html": [
       "<div>\n",
       "<style scoped>\n",
       "    .dataframe tbody tr th:only-of-type {\n",
       "        vertical-align: middle;\n",
       "    }\n",
       "\n",
       "    .dataframe tbody tr th {\n",
       "        vertical-align: top;\n",
       "    }\n",
       "\n",
       "    .dataframe thead th {\n",
       "        text-align: right;\n",
       "    }\n",
       "</style>\n",
       "<table border=\"1\" class=\"dataframe\">\n",
       "  <thead>\n",
       "    <tr style=\"text-align: right;\">\n",
       "      <th></th>\n",
       "      <th>text</th>\n",
       "      <th>y</th>\n",
       "    </tr>\n",
       "  </thead>\n",
       "  <tbody>\n",
       "    <tr>\n",
       "      <th>740609</th>\n",
       "      <td>i'm gonna love you through it is probably one ...</td>\n",
       "      <td>0</td>\n",
       "    </tr>\n",
       "    <tr>\n",
       "      <th>248296</th>\n",
       "      <td>i never dream when i sleep</td>\n",
       "      <td>0</td>\n",
       "    </tr>\n",
       "    <tr>\n",
       "      <th>863914</th>\n",
       "      <td>&lt;user&gt; im so sorry thats awful :/</td>\n",
       "      <td>0</td>\n",
       "    </tr>\n",
       "    <tr>\n",
       "      <th>922974</th>\n",
       "      <td>eschatology and messianism in lxx isaiah 1-12 ...</td>\n",
       "      <td>0</td>\n",
       "    </tr>\n",
       "    <tr>\n",
       "      <th>1257298</th>\n",
       "      <td>&lt;user&gt; i should start wearing snapbacks init</td>\n",
       "      <td>1</td>\n",
       "    </tr>\n",
       "  </tbody>\n",
       "</table>\n",
       "</div>"
      ],
      "text/plain": [
       "                                                      text  y\n",
       "740609   i'm gonna love you through it is probably one ...  0\n",
       "248296                          i never dream when i sleep  0\n",
       "863914                   <user> im so sorry thats awful :/  0\n",
       "922974   eschatology and messianism in lxx isaiah 1-12 ...  0\n",
       "1257298       <user> i should start wearing snapbacks init  1"
      ]
     },
     "execution_count": 6,
     "metadata": {},
     "output_type": "execute_result"
    }
   ],
   "source": [
    "allDf.sample(5)"
   ]
  },
  {
   "cell_type": "code",
   "execution_count": 7,
   "id": "8cd89a2a-5798-4004-bd05-6a686ca19c2c",
   "metadata": {},
   "outputs": [],
   "source": [
    "lem = nltk.stem.wordnet.WordNetLemmatizer()\n",
    "nltk_stopwords = nltk.corpus.stopwords.words(\"english\")\n",
    "\n",
    "def preprocess_line(text):\n",
    "    text = re.sub(r'[^\\w\\s]', '', str(text).lower().strip())\n",
    "    text = text.split()\n",
    "    text = [word for word in text if word not in nltk_stopwords]\n",
    "    text = [lem.lemmatize(word) for word in text]\n",
    "    return \" \".join(text)"
   ]
  },
  {
   "cell_type": "code",
   "execution_count": 8,
   "id": "0f59634e-89eb-41e9-8d75-2580443a95bc",
   "metadata": {},
   "outputs": [
    {
     "data": {
      "text/html": [
       "<div>\n",
       "<style scoped>\n",
       "    .dataframe tbody tr th:only-of-type {\n",
       "        vertical-align: middle;\n",
       "    }\n",
       "\n",
       "    .dataframe tbody tr th {\n",
       "        vertical-align: top;\n",
       "    }\n",
       "\n",
       "    .dataframe thead th {\n",
       "        text-align: right;\n",
       "    }\n",
       "</style>\n",
       "<table border=\"1\" class=\"dataframe\">\n",
       "  <thead>\n",
       "    <tr style=\"text-align: right;\">\n",
       "      <th></th>\n",
       "      <th>text</th>\n",
       "      <th>y</th>\n",
       "      <th>text_clean</th>\n",
       "    </tr>\n",
       "  </thead>\n",
       "  <tbody>\n",
       "    <tr>\n",
       "      <th>1176359</th>\n",
       "      <td>dawn ultra dishwashing liquid-original scent -...</td>\n",
       "      <td>0</td>\n",
       "      <td>dawn ultra dishwashing liquidoriginal scent 24...</td>\n",
       "    </tr>\n",
       "    <tr>\n",
       "      <th>70570</th>\n",
       "      <td>allahu akbar ! may allah forgive us all ... rt...</td>\n",
       "      <td>0</td>\n",
       "      <td>allahu akbar may allah forgive u rt user gonna...</td>\n",
       "    </tr>\n",
       "    <tr>\n",
       "      <th>186592</th>\n",
       "      <td>looking at cooking ( plastic comb these kitche...</td>\n",
       "      <td>0</td>\n",
       "      <td>looking cooking plastic comb kitchentested bud...</td>\n",
       "    </tr>\n",
       "    <tr>\n",
       "      <th>1846619</th>\n",
       "      <td>my bitches they know</td>\n",
       "      <td>1</td>\n",
       "      <td>bitch know</td>\n",
       "    </tr>\n",
       "    <tr>\n",
       "      <th>1544886</th>\n",
       "      <td>rt &lt;user&gt; dear fat in my body , find your way ...</td>\n",
       "      <td>1</td>\n",
       "      <td>rt user dear fat body find way boob gtfo</td>\n",
       "    </tr>\n",
       "  </tbody>\n",
       "</table>\n",
       "</div>"
      ],
      "text/plain": [
       "                                                      text  y  \\\n",
       "1176359  dawn ultra dishwashing liquid-original scent -...  0   \n",
       "70570    allahu akbar ! may allah forgive us all ... rt...  0   \n",
       "186592   looking at cooking ( plastic comb these kitche...  0   \n",
       "1846619                               my bitches they know  1   \n",
       "1544886  rt <user> dear fat in my body , find your way ...  1   \n",
       "\n",
       "                                                text_clean  \n",
       "1176359  dawn ultra dishwashing liquidoriginal scent 24...  \n",
       "70570    allahu akbar may allah forgive u rt user gonna...  \n",
       "186592   looking cooking plastic comb kitchentested bud...  \n",
       "1846619                                         bitch know  \n",
       "1544886           rt user dear fat body find way boob gtfo  "
      ]
     },
     "execution_count": 8,
     "metadata": {},
     "output_type": "execute_result"
    }
   ],
   "source": [
    "allDf[\"text_clean\"] = allDf[\"text\"].apply(lambda x: preprocess_line(x))\n",
    "allDf.sample(5)"
   ]
  },
  {
   "cell_type": "code",
   "execution_count": 9,
   "id": "1bf63bbe-49b0-47dc-9e11-d1a8a3a3805b",
   "metadata": {},
   "outputs": [],
   "source": [
    "def train_and_pred(x_train, y_train, x_test):\n",
    "    vectorizer = feature_extraction.text.TfidfVectorizer(ngram_range=(1,2))\n",
    "    x_vecs = vectorizer.fit_transform(x_train)\n",
    "    \n",
    "    classifier = RidgeClassifier()#LinearSVC()\n",
    "    classifier.fit(x_vecs, y_train)\n",
    "\n",
    "    return classifier.predict(vectorizer.transform(x_test))\n",
    "\n",
    "def crossValidate(dataset, fold):\n",
    "    accuracy = 0\n",
    "    kf = KFold(n_splits=fold, shuffle = True)\n",
    "    \n",
    "    for train_index, test_index in kf.split(dataset):\n",
    "        train = dataset.iloc[train_index]\n",
    "        test  = dataset.iloc[test_index]\n",
    "\n",
    "        train_x = train.text_clean\n",
    "        train_y = train.y\n",
    "        test_x  = test.text_clean\n",
    "        test_y  = test.y\n",
    "        \n",
    "        pred = train_and_pred(train_x, train_y, test_x)\n",
    "        \n",
    "        accuracy += accuracy_score(test_y, pred, normalize=False)\n",
    "        print(accuracy_score(test_y, pred))\n",
    "        \n",
    "    print(\"avg fold accuracy : \", accuracy / len(dataset))\n",
    "\n"
   ]
  },
  {
   "cell_type": "code",
   "execution_count": 10,
   "id": "baf43830-d987-434e-9555-b53f6e90b937",
   "metadata": {},
   "outputs": [
    {
     "name": "stdout",
     "output_type": "stream",
     "text": [
      "0.838034\n",
      "0.839388\n",
      "0.838614\n",
      "0.838218\n",
      "0.83804\n",
      "avg fold accuracy :  0.8384588\n"
     ]
    }
   ],
   "source": [
    "crossValidate(allDf, 5)"
   ]
  },
  {
   "cell_type": "code",
   "execution_count": null,
   "id": "ad86b60e-43ce-47e9-bbf5-f4b04904eac4",
   "metadata": {},
   "outputs": [],
   "source": []
  }
 ],
 "metadata": {
  "kernelspec": {
   "display_name": "Python 3 (ipykernel)",
   "language": "python",
   "name": "python3"
  },
  "language_info": {
   "codemirror_mode": {
    "name": "ipython",
    "version": 3
   },
   "file_extension": ".py",
   "mimetype": "text/x-python",
   "name": "python",
   "nbconvert_exporter": "python",
   "pygments_lexer": "ipython3",
   "version": "3.9.12"
  }
 },
 "nbformat": 4,
 "nbformat_minor": 5
}
