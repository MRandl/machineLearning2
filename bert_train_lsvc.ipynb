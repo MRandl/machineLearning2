{
 "cells": [
  {
   "cell_type": "code",
   "execution_count": 1,
   "id": "541c3ef4-d15e-41a4-a4e3-498f2af9520d",
   "metadata": {},
   "outputs": [],
   "source": [
    "import pickle\n",
    "import pandas as pd\n",
    "import numpy as np\n",
    "\n",
    "from sklearn.svm import LinearSVC\n",
    "from sklearn.linear_model import RidgeClassifier\n",
    "\n",
    "from sklearn.model_selection import KFold\n",
    "from sklearn.metrics import accuracy_score\n",
    "from sklearn.ensemble import RandomForestClassifier\n",
    "import sklearn"
   ]
  },
  {
   "cell_type": "code",
   "execution_count": 2,
   "id": "4c028049-bfd8-4559-acdc-3fd4d98d57ee",
   "metadata": {},
   "outputs": [],
   "source": [
    "with open('data/pickle/vectors_neg.pkl', 'rb') as f:\n",
    "    vecs_neg = np.array(pickle.load(f))\n",
    "    \n",
    "with open('data/pickle/vectors_pos.pkl', 'rb') as f:\n",
    "    vecs_pos = np.array(pickle.load(f))"
   ]
  },
  {
   "cell_type": "code",
   "execution_count": 3,
   "id": "50080d69-b389-40b0-a878-e5939bc0b079",
   "metadata": {},
   "outputs": [],
   "source": [
    "x = np.concatenate((vecs_neg, vecs_pos), axis = 0)\n",
    "mean = np.mean(x, axis=0)\n",
    "std = np.std(x, axis=0)\n",
    "x = (x - mean) / std"
   ]
  },
  {
   "cell_type": "code",
   "execution_count": 4,
   "id": "ff7e0dad-c500-492b-933b-965e2d2ef396",
   "metadata": {},
   "outputs": [
    {
     "data": {
      "text/plain": [
       "(200000, 768)"
      ]
     },
     "execution_count": 4,
     "metadata": {},
     "output_type": "execute_result"
    }
   ],
   "source": [
    "x.shape"
   ]
  },
  {
   "cell_type": "code",
   "execution_count": 5,
   "id": "99f436e7-fe74-412a-8938-c980107a355c",
   "metadata": {},
   "outputs": [],
   "source": [
    "y = np.concatenate((np.zeros(len(vecs_neg)), np.ones(len(vecs_pos))))"
   ]
  },
  {
   "cell_type": "code",
   "execution_count": 6,
   "id": "3a4036fe-7f12-43d0-b0bc-601447b0ab95",
   "metadata": {},
   "outputs": [
    {
     "data": {
      "text/plain": [
       "(200000,)"
      ]
     },
     "execution_count": 6,
     "metadata": {},
     "output_type": "execute_result"
    }
   ],
   "source": [
    "y.shape"
   ]
  },
  {
   "cell_type": "code",
   "execution_count": 7,
   "id": "738d8b49-5594-4ab1-be97-c2e94ea57093",
   "metadata": {},
   "outputs": [],
   "source": [
    "del vecs_neg\n",
    "del vecs_pos"
   ]
  },
  {
   "cell_type": "code",
   "execution_count": 8,
   "id": "eba431c2-54bd-47f3-8730-86cd980cebad",
   "metadata": {},
   "outputs": [
    {
     "data": {
      "text/plain": [
       "-3.632742255158897e-18"
      ]
     },
     "execution_count": 8,
     "metadata": {},
     "output_type": "execute_result"
    }
   ],
   "source": [
    "np.mean(x)"
   ]
  },
  {
   "cell_type": "code",
   "execution_count": 9,
   "id": "9e17a6a1-6d7d-4a84-b878-a41c615168c9",
   "metadata": {},
   "outputs": [],
   "source": [
    "def train_and_pred(x_train, y_train, x_test):\n",
    "    classifier = LinearSVC(verbose=True, max_iter = 5000)#RidgeClassifier()#RandomForestClassifier(n_jobs=-1, verbose = True)\n",
    "    classifier.fit(x_train, y_train)\n",
    "\n",
    "    return classifier.predict(x_test)\n",
    "\n",
    "def crossValidate(x, y, fold):\n",
    "    accuracy = 0\n",
    "    kf = KFold(n_splits=fold, shuffle = True)\n",
    "    \n",
    "    for train_index, test_index in kf.split(y):\n",
    "        train_x = x[train_index, :]\n",
    "        train_y = y[train_index]\n",
    "        test_x = x[test_index, :]\n",
    "        test_y = y[test_index]\n",
    "        \n",
    "        pred = train_and_pred(train_x, train_y, test_x)\n",
    "        \n",
    "        accuracy += accuracy_score(test_y, pred, normalize=False)\n",
    "        print(accuracy_score(test_y, pred))\n",
    "        \n",
    "    print(\"avg fold accuracy : \", accuracy / len(y))\n",
    "\n"
   ]
  },
  {
   "cell_type": "code",
   "execution_count": null,
   "id": "9da9eec8-d3eb-425a-a212-5d7bf0a93448",
   "metadata": {},
   "outputs": [
    {
     "name": "stdout",
     "output_type": "stream",
     "text": [
      "[LibLinear]....................................................................................................................................................................................................................................................................................................................................................................................................................................................................................................................\n",
      "optimization finished, #iter = 5000\n",
      "\n",
      "WARNING: reaching max number of iterations\n",
      "Using -s 2 may be faster (also see FAQ)\n",
      "\n",
      "Objective value = -80267.494533\n",
      "nSV = 119641\n",
      "0.824225\n"
     ]
    },
    {
     "name": "stderr",
     "output_type": "stream",
     "text": [
      "/home/mrandl/anaconda3/lib/python3.9/site-packages/sklearn/svm/_base.py:1225: ConvergenceWarning: Liblinear failed to converge, increase the number of iterations.\n",
      "  warnings.warn(\n"
     ]
    },
    {
     "name": "stdout",
     "output_type": "stream",
     "text": [
      "[LibLinear]....................................................................................................................................................................................................................................................................................................................................................................................................................................................................................................................\n",
      "optimization finished, #iter = 5000\n",
      "\n",
      "WARNING: reaching max number of iterations\n",
      "Using -s 2 may be faster (also see FAQ)\n",
      "\n",
      "Objective value = -79954.749924\n",
      "nSV = 119197\n",
      "0.82115\n"
     ]
    },
    {
     "name": "stderr",
     "output_type": "stream",
     "text": [
      "/home/mrandl/anaconda3/lib/python3.9/site-packages/sklearn/svm/_base.py:1225: ConvergenceWarning: Liblinear failed to converge, increase the number of iterations.\n",
      "  warnings.warn(\n"
     ]
    },
    {
     "name": "stdout",
     "output_type": "stream",
     "text": [
      "[LibLinear]........................................................................................................................................................"
     ]
    }
   ],
   "source": [
    "crossValidate(x, y, 5)"
   ]
  },
  {
   "cell_type": "code",
   "execution_count": null,
   "id": "54eca320-9627-437d-9db2-f78118447c9b",
   "metadata": {},
   "outputs": [],
   "source": [
    "def publishResults(test_pred, file_name):\n",
    "    with open('data/' + file_name, \"w\") as f:\n",
    "        f.write(\"Id,Prediction\\n\")\n",
    "        for pred, index in zip(test_pred, range(1, len(test_pred) +1)):\n",
    "            f.write(str(index) + \",\" + str(pred) + \"\\n\")"
   ]
  },
  {
   "cell_type": "code",
   "execution_count": null,
   "id": "abacc010-fde8-4c26-bf11-294031800b74",
   "metadata": {},
   "outputs": [],
   "source": [
    "with open('data/pickle/test_data.pkl', 'rb') as f:\n",
    "    test_vecs = np.array(pickle.load(f))\n",
    "test_vecs = (test_vecs - mean) / std\n",
    "test_pred = train_and_pred(x, y, test_vecs)"
   ]
  },
  {
   "cell_type": "code",
   "execution_count": null,
   "id": "0338d9fe-b5a3-4d76-8ffd-ec822855b4ac",
   "metadata": {},
   "outputs": [],
   "source": [
    "test_pred = [-1 if x <= 0.0 else 1 for x in test_pred]\n",
    "publishResults(test_pred, \"bert_lsvc.csv\")"
   ]
  },
  {
   "cell_type": "code",
   "execution_count": null,
   "id": "a90a32d6-525f-45af-b2a3-e11b6da60c0d",
   "metadata": {},
   "outputs": [],
   "source": [
    "test_pred"
   ]
  },
  {
   "cell_type": "code",
   "execution_count": null,
   "id": "a9e53d53-b976-4a4d-97c4-18a2d3d529e4",
   "metadata": {},
   "outputs": [],
   "source": []
  }
 ],
 "metadata": {
  "kernelspec": {
   "display_name": "Python 3 (ipykernel)",
   "language": "python",
   "name": "python3"
  },
  "language_info": {
   "codemirror_mode": {
    "name": "ipython",
    "version": 3
   },
   "file_extension": ".py",
   "mimetype": "text/x-python",
   "name": "python",
   "nbconvert_exporter": "python",
   "pygments_lexer": "ipython3",
   "version": "3.9.15"
  }
 },
 "nbformat": 4,
 "nbformat_minor": 5
}
